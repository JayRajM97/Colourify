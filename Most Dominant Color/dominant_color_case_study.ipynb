{
 "cells": [
  {
   "cell_type": "code",
   "execution_count": 1,
   "metadata": {
    "collapsed": true
   },
   "outputs": [],
   "source": [
    "#Module 3\n",
    "#Import the cv2 and matplotlib library and load the image.jpg into a numpy array.\n",
    "#Import the KMeans model from sklearn, followed by clustering.\n",
    "import cv2\n",
    "from sklearn.cluster import KMeans\n",
    "import webcolors\n",
    "import glob\n",
    "import numpy as np\n",
    "import matplotlib.pyplot as plt"
   ]
  },
  {
   "cell_type": "code",
   "execution_count": 2,
   "metadata": {
    "collapsed": true
   },
   "outputs": [],
   "source": [
    "image = cv2.imread(\"image.jpg\")"
   ]
  },
  {
   "cell_type": "code",
   "execution_count": 3,
   "metadata": {},
   "outputs": [],
   "source": [
    "image = cv2.cvtColor(image, cv2.COLOR_BGR2RGB)"
   ]
  },
  {
   "cell_type": "code",
   "execution_count": 4,
   "metadata": {
    "collapsed": true
   },
   "outputs": [],
   "source": [
    "image = image.reshape(image.shape[0] * image.shape[1], image.shape[2])"
   ]
  },
  {
   "cell_type": "code",
   "execution_count": 5,
   "metadata": {},
   "outputs": [
    {
     "data": {
      "text/plain": [
       "(618928, 3)"
      ]
     },
     "execution_count": 5,
     "metadata": {},
     "output_type": "execute_result"
    }
   ],
   "source": [
    "image.shape"
   ]
  },
  {
   "cell_type": "code",
   "execution_count": 6,
   "metadata": {
    "collapsed": true
   },
   "outputs": [],
   "source": [
    "K = 4"
   ]
  },
  {
   "cell_type": "code",
   "execution_count": 7,
   "metadata": {
    "collapsed": true
   },
   "outputs": [],
   "source": [
    "clf = KMeans(n_clusters=K)"
   ]
  },
  {
   "cell_type": "code",
   "execution_count": 8,
   "metadata": {},
   "outputs": [
    {
     "data": {
      "text/plain": [
       "KMeans(algorithm='auto', copy_x=True, init='k-means++', max_iter=300,\n",
       "    n_clusters=4, n_init=10, n_jobs=1, precompute_distances='auto',\n",
       "    random_state=None, tol=0.0001, verbose=0)"
      ]
     },
     "execution_count": 8,
     "metadata": {},
     "output_type": "execute_result"
    }
   ],
   "source": [
    "clf.fit(image)"
   ]
  },
  {
   "cell_type": "code",
   "execution_count": 9,
   "metadata": {
    "collapsed": true
   },
   "outputs": [],
   "source": [
    "label = [0, 0, 0, 0]"
   ]
  },
  {
   "cell_type": "code",
   "execution_count": 10,
   "metadata": {
    "collapsed": true
   },
   "outputs": [],
   "source": [
    "for x in clf.labels_:\n",
    "    label[x] += 1"
   ]
  },
  {
   "cell_type": "code",
   "execution_count": 11,
   "metadata": {
    "collapsed": true
   },
   "outputs": [],
   "source": [
    "label_sum = image.shape[0]\n",
    "label = [float(x) / label_sum for x in label]"
   ]
  },
  {
   "cell_type": "code",
   "execution_count": 12,
   "metadata": {
    "collapsed": true
   },
   "outputs": [],
   "source": [
    "colors = [[int(value) for value in row] for row in clf.cluster_centers_]"
   ]
  },
  {
   "cell_type": "code",
   "execution_count": 15,
   "metadata": {},
   "outputs": [],
   "source": [
    "clr = [webcolors.rgb_to_hex(c) for c in colors]"
   ]
  },
  {
   "cell_type": "code",
   "execution_count": 16,
   "metadata": {},
   "outputs": [
    {
     "data": {
      "image/png": "[encoded data removed]",
      "text/plain": [
       "<matplotlib.figure.Figure at 0x1d58ef25e48>"
      ]
     },
     "metadata": {},
     "output_type": "display_data"
    }
   ],
   "source": [
    "#Plot the most dominant colors on a pie chart.\n",
    "plt.pie(label, colors=clr, shadow=True) \n",
    "plt.axis('equal')\n",
    "plt.show()"
   ]
  },
  {
   "cell_type": "code",
   "execution_count": 17,
   "metadata": {},
   "outputs": [
    {
     "name": "stdout",
     "output_type": "stream",
     "text": [
      "images shape: (10, 640, 480, 3)\n"
     ]
    }
   ],
   "source": [
    "#Write a for loop to import images 1-10 from the data set and plot the most common dominant colours found in different images vs percentages of each. \n",
    "images = []\n",
    "files = glob.glob (\"/home/jerry/Desktop/Colourify/Dominant_Color_Data_Set/*.jpg\")\n",
    "for myFile in files:\n",
    "    image = cv2.imread (myFile)\n",
    "    image = cv2.cvtColor(image, cv2.COLOR_BGR2RGB)\n",
    "    images.append (image)\n",
    "    plt.figure()\n",
    "    plt.axis(\"off\")\n",
    "    plt.imshow(image)\n",
    "\n",
    "print('images shape:', np.array(images).shape)"
   ]
  },
  {
   "cell_type": "code",
   "execution_count": 18,
   "metadata": {
    "collapsed": true,
    "scrolled": true
   },
   "outputs": [],
   "source": [
    "#Clustering\n",
    "max_percentage = []\n",
    "rgb_values = []\n",
    "label = [0,0,0,0]\n",
    "for i in range(len(images)):\n",
    "    images[i] = images[i].reshape(images[i].shape[0] * images[i].shape[1], images[i].shape[2])\n",
    "    clf = KMeans(n_clusters=K)\n",
    "    clf.fit(images[i])\n",
    "    for x in clf.labels_:\n",
    "        label[x] += 1\n",
    "    label_sum = images[i].shape[0]\n",
    "    label = [float(x) / label_sum for x in label]\n",
    "    m = max(label)\n",
    "    ind = label.index(max(label))\n",
    "    m = m*100\n",
    "    max_percentage.append(m)\n",
    "    colors = [[int(value) for value in row] for row in clf.cluster_centers_]\n",
    "    rgb_values.append(colors[ind])"
   ]
  },
  {
   "cell_type": "code",
   "execution_count": 19,
   "metadata": {
    "collapsed": true
   },
   "outputs": [],
   "source": [
    "import matplotlib as plt\n",
    "%matplotlib inline\n",
    "import seaborn as sns\n",
    "sns.set()"
   ]
  },
  {
   "cell_type": "code",
   "execution_count": 20,
   "metadata": {},
   "outputs": [
    {
     "name": "stdout",
     "output_type": "stream",
     "text": [
      "[29.576171875, 41.90502641677856, 47.99516102074058, 67.02513129384681, 61.15581713909927, 58.458857929092254, 70.97252102492816, 46.36328742884109, 53.77547462170151, 56.552258383706445]\n",
      "[[217, 212, 209], [137, 49, 55], [43, 43, 31], [252, 250, 248], [136, 130, 133], [251, 251, 251], [240, 240, 239], [241, 239, 241], [38, 37, 47], [42, 43, 62]]\n"
     ]
    }
   ],
   "source": [
    "print(max_percentage)\n",
    "print(rgb_values)"
   ]
  },
  {
   "cell_type": "code",
   "execution_count": 22,
   "metadata": {
    "scrolled": true
   },
   "outputs": [
    {
     "name": "stdout",
     "output_type": "stream",
     "text": [
      "Actual colour name: None , closest colour name: lightgrey\n",
      "Actual colour name: None , closest colour name: brown\n",
      "Actual colour name: None , closest colour name: darkslategrey\n",
      "Actual colour name: None , closest colour name: snow\n",
      "Actual colour name: None , closest colour name: grey\n",
      "Actual colour name: None , closest colour name: snow\n",
      "Actual colour name: None , closest colour name: whitesmoke\n",
      "Actual colour name: None , closest colour name: whitesmoke\n",
      "Actual colour name: None , closest colour name: darkslategrey\n",
      "Actual colour name: None , closest colour name: darkslategrey\n"
     ]
    }
   ],
   "source": [
    "#Finding colors name\n",
    "def closest_colour(requested_colour):\n",
    "    min_colours = {}\n",
    "    for key, name in webcolors.css3_hex_to_names.items():\n",
    "        r_c, g_c, b_c = webcolors.hex_to_rgb(key)\n",
    "        rd = (r_c - requested_colour[0]) ** 2\n",
    "        gd = (g_c - requested_colour[1]) ** 2\n",
    "        bd = (b_c - requested_colour[2]) ** 2\n",
    "        min_colours[(rd + gd + bd)] = name\n",
    "    return min_colours[min(min_colours.keys())]\n",
    "\n",
    "def get_colour_name(requested_colour):\n",
    "    try:\n",
    "        closest_name = actual_name = webcolors.rgb_to_name(requested_colour)\n",
    "    except ValueError:\n",
    "        closest_name = closest_colour(requested_colour)\n",
    "        actual_name = None\n",
    "    return actual_name, closest_name\n",
    "\n",
    "#requested_colour = (119, 172, 152)\n",
    "color_name = []\n",
    "for i in rgb_values:\n",
    "    actual_name, closest_name = get_colour_name(i)\n",
    "    print(\"Actual colour name:\", actual_name, \", closest colour name:\", closest_name)\n",
    "    color_name.append(closest_name)"
   ]
  },
  {
   "cell_type": "code",
   "execution_count": 23,
   "metadata": {
    "scrolled": false
   },
   "outputs": [
    {
     "data": {
      "text/plain": [
       "['lightgrey',\n",
       " 'brown',\n",
       " 'darkslategrey',\n",
       " 'snow',\n",
       " 'grey',\n",
       " 'snow',\n",
       " 'whitesmoke',\n",
       " 'whitesmoke',\n",
       " 'darkslategrey',\n",
       " 'darkslategrey']"
      ]
     },
     "execution_count": 23,
     "metadata": {},
     "output_type": "execute_result"
    }
   ],
   "source": [
    "color_name "
   ]
  },
  {
   "cell_type": "code",
   "execution_count": 24,
   "metadata": {},
   "outputs": [
    {
     "data": {
      "text/plain": [
       "[29.576171875,\n",
       " 41.90502641677856,\n",
       " 47.99516102074058,\n",
       " 67.02513129384681,\n",
       " 61.15581713909927,\n",
       " 58.458857929092254,\n",
       " 70.97252102492816,\n",
       " 46.36328742884109,\n",
       " 53.77547462170151,\n",
       " 56.552258383706445]"
      ]
     },
     "execution_count": 24,
     "metadata": {},
     "output_type": "execute_result"
    }
   ],
   "source": [
    "max_percentage"
   ]
  },
  {
   "cell_type": "code",
   "execution_count": 31,
   "metadata": {
    "collapsed": true,
    "scrolled": true
   },
   "outputs": [],
   "source": [
    "list_of_tuple = list(zip(color_name,max_percentage))\n",
    "list_of_list = [list(x) for x in list_of_tuple]"
   ]
  },
  {
   "cell_type": "code",
   "execution_count": 32,
   "metadata": {
    "scrolled": false
   },
   "outputs": [
    {
     "data": {
      "text/plain": [
       "[['lightgrey', 29.576171875],\n",
       " ['brown', 41.90502641677856],\n",
       " ['darkslategrey', 47.99516102074058],\n",
       " ['snow', 67.02513129384681],\n",
       " ['grey', 61.15581713909927],\n",
       " ['snow', 58.458857929092254],\n",
       " ['whitesmoke', 70.97252102492816],\n",
       " ['whitesmoke', 46.36328742884109],\n",
       " ['darkslategrey', 53.77547462170151],\n",
       " ['darkslategrey', 56.552258383706445]]"
      ]
     },
     "execution_count": 32,
     "metadata": {},
     "output_type": "execute_result"
    }
   ],
   "source": [
    "list_of_list"
   ]
  },
  {
   "cell_type": "code",
   "execution_count": 35,
   "metadata": {},
   "outputs": [
    {
     "name": "stdout",
     "output_type": "stream",
     "text": [
      "29.576171875\n",
      "41.90502641677856\n",
      "52.77429800871619\n",
      "62.741994611469536\n",
      "61.15581713909927\n",
      "58.66790422688462\n",
      "['lightgrey', 'brown', 'darkslategrey', 'snow', 'grey', 'whitesmoke']\n"
     ]
    }
   ],
   "source": [
    "#Average Percentage of the colors\n",
    "m = 0;\n",
    "avg_p = []\n",
    "col = []\n",
    "for i in list_of_list:\n",
    "    c = 0\n",
    "    avg = 0\n",
    "    l = i[0]\n",
    "    if l not in col:\n",
    "        for j in list_of_list:\n",
    "            if(l==j[0]):\n",
    "                avg += j[1]\n",
    "                c += 1\n",
    "        m = avg/c\n",
    "        print(m)\n",
    "        avg_p.append(m)\n",
    "        col.append(l)\n",
    "    \n",
    "print(col) "
   ]
  },
  {
   "cell_type": "code",
   "execution_count": 36,
   "metadata": {},
   "outputs": [
    {
     "data": {
      "text/plain": [
       "<matplotlib.axes._subplots.AxesSubplot at 0x1d5911ea9b0>"
      ]
     },
     "execution_count": 36,
     "metadata": {},
     "output_type": "execute_result"
    },
    {
     "data": {
      "image/png": "[encoded data removed]",
      "text/plain": [
       "<matplotlib.figure.Figure at 0x1d5911ea320>"
      ]
     },
     "metadata": {},
     "output_type": "display_data"
    }
   ],
   "source": [
    "#Plotting Bar-graph\n",
    "sns.barplot(col, avg_p)"
   ]
  },
  {
   "cell_type": "code",
   "execution_count": null,
   "metadata": {
    "collapsed": true
   },
   "outputs": [],
   "source": []
  }
 ],
 "metadata": {
  "kernelspec": {
   "display_name": "Python 3",
   "language": "python",
   "name": "python3"
  },
  "language_info": {
   "codemirror_mode": {
    "name": "ipython",
    "version": 3
   },
   "file_extension": ".py",
   "mimetype": "text/x-python",
   "name": "python",
   "nbconvert_exporter": "python",
   "pygments_lexer": "ipython3",
   "version": "3.6.3"
  }
 },
 "nbformat": 4,
 "nbformat_minor": 2
}
